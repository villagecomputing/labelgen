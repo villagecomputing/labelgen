{
 "cells": [
  {
   "cell_type": "code",
   "execution_count": 1,
   "metadata": {},
   "outputs": [],
   "source": [
    "from superpipe import *\n",
    "import pandas as pd\n",
    "from pydantic import BaseModel, Field"
   ]
  },
  {
   "cell_type": "code",
   "execution_count": 2,
   "metadata": {},
   "outputs": [],
   "source": [
    "joke_prompt = lambda row: f\"\"\"\n",
    "Tell me a joke about {row['topic']}\n",
    "\"\"\"\n",
    "\n",
    "JokesStep = steps.SimpleLLMStep(\n",
    "  prompt=joke_prompt,\n",
    "  model=models.gpt35,\n",
    "  name=\"joke\"\n",
    ")"
   ]
  },
  {
   "cell_type": "code",
   "execution_count": 3,
   "metadata": {},
   "outputs": [],
   "source": [
    "topics = ['Beets', 'Bears', 'Battlestar Gallactica']"
   ]
  },
  {
   "cell_type": "code",
   "execution_count": 4,
   "metadata": {},
   "outputs": [],
   "source": [
    "jokes_df = pd.DataFrame(topics)\n",
    "jokes_df.columns = [\"topic\"]"
   ]
  },
  {
   "cell_type": "code",
   "execution_count": 5,
   "metadata": {},
   "outputs": [
    {
     "data": {
      "text/html": [
       "<div>\n",
       "<style scoped>\n",
       "    .dataframe tbody tr th:only-of-type {\n",
       "        vertical-align: middle;\n",
       "    }\n",
       "\n",
       "    .dataframe tbody tr th {\n",
       "        vertical-align: top;\n",
       "    }\n",
       "\n",
       "    .dataframe thead th {\n",
       "        text-align: right;\n",
       "    }\n",
       "</style>\n",
       "<table border=\"1\" class=\"dataframe\">\n",
       "  <thead>\n",
       "    <tr style=\"text-align: right;\">\n",
       "      <th></th>\n",
       "      <th>topic</th>\n",
       "    </tr>\n",
       "  </thead>\n",
       "  <tbody>\n",
       "    <tr>\n",
       "      <th>0</th>\n",
       "      <td>Beets</td>\n",
       "    </tr>\n",
       "    <tr>\n",
       "      <th>1</th>\n",
       "      <td>Bears</td>\n",
       "    </tr>\n",
       "    <tr>\n",
       "      <th>2</th>\n",
       "      <td>Battlestar Gallactica</td>\n",
       "    </tr>\n",
       "  </tbody>\n",
       "</table>\n",
       "</div>"
      ],
      "text/plain": [
       "                   topic\n",
       "0                  Beets\n",
       "1                  Bears\n",
       "2  Battlestar Gallactica"
      ]
     },
     "execution_count": 5,
     "metadata": {},
     "output_type": "execute_result"
    }
   ],
   "source": [
    "jokes_df"
   ]
  },
  {
   "cell_type": "code",
   "execution_count": 23,
   "metadata": {},
   "outputs": [],
   "source": [
    "def evaluate_prompt(row):\n",
    "    return f\"\"\"\n",
    "    Is the following joke pretty funny? Your bar should be making a friend laugh\n",
    "    {row['joke']}\n",
    "\n",
    "    Return a json object with a single boolean key called 'evaluation'\n",
    "    \"\"\"\n",
    "\n",
    "def evaluate_joke(row):\n",
    "    return llm.get_structured_llm_response(evaluate_prompt(row), models.gpt4).content['evaluation']"
   ]
  },
  {
   "cell_type": "code",
   "execution_count": 24,
   "metadata": {},
   "outputs": [
    {
     "name": "stdout",
     "output_type": "stream",
     "text": [
      "Running step joke...\n"
     ]
    },
    {
     "name": "stderr",
     "output_type": "stream",
     "text": [
      "100%|██████████| 3/3 [00:02<00:00,  1.43it/s]\n"
     ]
    },
    {
     "name": "stdout",
     "output_type": "stream",
     "text": [
      "0     True\n",
      "1     True\n",
      "2    False\n",
      "dtype: bool\n"
     ]
    },
    {
     "data": {
      "text/html": [
       "<div>\n",
       "<style scoped>\n",
       "    .dataframe tbody tr th:only-of-type {\n",
       "        vertical-align: middle;\n",
       "    }\n",
       "\n",
       "    .dataframe tbody tr th {\n",
       "        vertical-align: top;\n",
       "    }\n",
       "\n",
       "    .dataframe thead th {\n",
       "        text-align: right;\n",
       "    }\n",
       "</style>\n",
       "<table border=\"1\" class=\"dataframe\">\n",
       "  <thead>\n",
       "    <tr style=\"text-align: right;\">\n",
       "      <th></th>\n",
       "      <th>topic</th>\n",
       "      <th>__joke__</th>\n",
       "      <th>joke</th>\n",
       "    </tr>\n",
       "  </thead>\n",
       "  <tbody>\n",
       "    <tr>\n",
       "      <th>0</th>\n",
       "      <td>Beets</td>\n",
       "      <td>{'input_tokens': 16, 'output_tokens': 23, 'inp...</td>\n",
       "      <td>Why did the beet break up with the brussels sp...</td>\n",
       "    </tr>\n",
       "    <tr>\n",
       "      <th>1</th>\n",
       "      <td>Bears</td>\n",
       "      <td>{'input_tokens': 15, 'output_tokens': 25, 'inp...</td>\n",
       "      <td>Why did the bear bring a flashlight to the par...</td>\n",
       "    </tr>\n",
       "    <tr>\n",
       "      <th>2</th>\n",
       "      <td>Battlestar Gallactica</td>\n",
       "      <td>{'input_tokens': 19, 'output_tokens': 22, 'inp...</td>\n",
       "      <td>Why did the Cylon break up with his girlfriend...</td>\n",
       "    </tr>\n",
       "  </tbody>\n",
       "</table>\n",
       "</div>"
      ],
      "text/plain": [
       "                   topic                                           __joke__  \\\n",
       "0                  Beets  {'input_tokens': 16, 'output_tokens': 23, 'inp...   \n",
       "1                  Bears  {'input_tokens': 15, 'output_tokens': 25, 'inp...   \n",
       "2  Battlestar Gallactica  {'input_tokens': 19, 'output_tokens': 22, 'inp...   \n",
       "\n",
       "                                                joke  \n",
       "0  Why did the beet break up with the brussels sp...  \n",
       "1  Why did the bear bring a flashlight to the par...  \n",
       "2  Why did the Cylon break up with his girlfriend...  "
      ]
     },
     "execution_count": 24,
     "metadata": {},
     "output_type": "execute_result"
    }
   ],
   "source": [
    "comedian = pipeline.Pipeline([\n",
    "    JokesStep,\n",
    "], evaluation_fn=evaluate_joke)\n",
    "\n",
    "comedian.apply(jokes_df)"
   ]
  },
  {
   "cell_type": "code",
   "execution_count": 25,
   "metadata": {},
   "outputs": [
    {
     "data": {
      "text/plain": [
       "PipelineStatistics(score=0.6666666666666666, input_tokens=defaultdict(<class 'int'>, {}), output_tokens=defaultdict(<class 'int'>, {}), input_cost=0.0, output_cost=0.0, num_success=0, num_failure=0, total_latency=0.0)"
      ]
     },
     "execution_count": 25,
     "metadata": {},
     "output_type": "execute_result"
    }
   ],
   "source": [
    "comedian.statistics"
   ]
  },
  {
   "cell_type": "code",
   "execution_count": 22,
   "metadata": {},
   "outputs": [
    {
     "data": {
      "text/plain": [
       "array(['Why did the beet turn red?\\n\\nBecause it saw the salad dressing!',\n",
       "       \"Why don't bears like fast food? Because they can never catch it!\",\n",
       "       'Why did the Cylon break up with his toaster girlfriend? Because she kept burning his bread!'],\n",
       "      dtype=object)"
      ]
     },
     "execution_count": 22,
     "metadata": {},
     "output_type": "execute_result"
    }
   ],
   "source": [
    "jokes_df.joke.values"
   ]
  },
  {
   "cell_type": "code",
   "execution_count": 29,
   "metadata": {},
   "outputs": [],
   "source": [
    "JokesStep4 = steps.SimpleLLMStep(\n",
    "  prompt=joke_prompt,\n",
    "  model=models.gpt4,\n",
    "  name=\"joke4\"\n",
    ")"
   ]
  },
  {
   "cell_type": "code",
   "execution_count": 48,
   "metadata": {},
   "outputs": [],
   "source": [
    "def evaluate_side_by_side_prompt(row):\n",
    "    return f\"\"\"\n",
    "    You are given two jokes. Rate which is funnier:\n",
    "    joke 1: {row['joke']}\n",
    "    joke 2: {row['joke4']}\n",
    "\n",
    "    If joke 1 is funnier or they are similar, return false. If joke 2 is funnier return true.\n",
    "\n",
    "    Return a json object with a single boolean key called 'evaluation'\n",
    "    \"\"\"\n",
    "\n",
    "def evaluate_side_by_side(row):\n",
    "    return llm.get_structured_llm_response(evaluate_side_by_side_prompt(row), models.gpt4).content['evaluation']"
   ]
  },
  {
   "cell_type": "code",
   "execution_count": 52,
   "metadata": {},
   "outputs": [
    {
     "data": {
      "text/plain": [
       "array([['Why did the beet blush?\\n\\nBecause it saw the salad dressing!',\n",
       "        'Why did the beet turn red?\\n\\nBecause it saw the salad dressing!'],\n",
       "       [\"Why don't bears wear socks?\\n\\nBecause they have bear feet!\",\n",
       "        \"Why don't bears wear socks?\\n\\nBecause they like to walk bear-foot!\"],\n",
       "       ['Why did the Cylon go to therapy?\\n\\nTo work on their \"toasters\" issues!',\n",
       "        'Why did the Cylon buy an iPhone?\\n\\nBecause he heard it comes with Siri-usly good voice recognition!']],\n",
       "      dtype=object)"
      ]
     },
     "execution_count": 52,
     "metadata": {},
     "output_type": "execute_result"
    }
   ],
   "source": [
    "jokes_df[['joke', 'joke4']].values"
   ]
  },
  {
   "cell_type": "code",
   "execution_count": 50,
   "metadata": {},
   "outputs": [
    {
     "name": "stdout",
     "output_type": "stream",
     "text": [
      "Running step joke...\n"
     ]
    },
    {
     "name": "stderr",
     "output_type": "stream",
     "text": [
      "100%|██████████| 3/3 [00:01<00:00,  1.95it/s]\n"
     ]
    },
    {
     "name": "stdout",
     "output_type": "stream",
     "text": [
      "Running step joke4...\n"
     ]
    },
    {
     "name": "stderr",
     "output_type": "stream",
     "text": [
      "100%|██████████| 3/3 [00:02<00:00,  1.06it/s]\n"
     ]
    },
    {
     "name": "stdout",
     "output_type": "stream",
     "text": [
      "0    False\n",
      "1    False\n",
      "2     True\n",
      "dtype: bool\n"
     ]
    },
    {
     "data": {
      "text/html": [
       "<div>\n",
       "<style scoped>\n",
       "    .dataframe tbody tr th:only-of-type {\n",
       "        vertical-align: middle;\n",
       "    }\n",
       "\n",
       "    .dataframe tbody tr th {\n",
       "        vertical-align: top;\n",
       "    }\n",
       "\n",
       "    .dataframe thead th {\n",
       "        text-align: right;\n",
       "    }\n",
       "</style>\n",
       "<table border=\"1\" class=\"dataframe\">\n",
       "  <thead>\n",
       "    <tr style=\"text-align: right;\">\n",
       "      <th></th>\n",
       "      <th>topic</th>\n",
       "      <th>__joke__</th>\n",
       "      <th>joke</th>\n",
       "      <th>__joke4__</th>\n",
       "      <th>joke4</th>\n",
       "    </tr>\n",
       "  </thead>\n",
       "  <tbody>\n",
       "    <tr>\n",
       "      <th>0</th>\n",
       "      <td>Beets</td>\n",
       "      <td>{'input_tokens': 16, 'output_tokens': 13, 'inp...</td>\n",
       "      <td>Why did the beet blush?\\n\\nBecause it saw the ...</td>\n",
       "      <td>{'input_tokens': 16, 'output_tokens': 14, 'inp...</td>\n",
       "      <td>Why did the beet turn red?\\n\\nBecause it saw t...</td>\n",
       "    </tr>\n",
       "    <tr>\n",
       "      <th>1</th>\n",
       "      <td>Bears</td>\n",
       "      <td>{'input_tokens': 15, 'output_tokens': 13, 'inp...</td>\n",
       "      <td>Why don't bears wear socks?\\n\\nBecause they ha...</td>\n",
       "      <td>{'input_tokens': 15, 'output_tokens': 15, 'inp...</td>\n",
       "      <td>Why don't bears wear socks?\\n\\nBecause they li...</td>\n",
       "    </tr>\n",
       "    <tr>\n",
       "      <th>2</th>\n",
       "      <td>Battlestar Gallactica</td>\n",
       "      <td>{'input_tokens': 19, 'output_tokens': 19, 'inp...</td>\n",
       "      <td>Why did the Cylon go to therapy?\\n\\nTo work on...</td>\n",
       "      <td>{'input_tokens': 19, 'output_tokens': 22, 'inp...</td>\n",
       "      <td>Why did the Cylon buy an iPhone?\\n\\nBecause he...</td>\n",
       "    </tr>\n",
       "  </tbody>\n",
       "</table>\n",
       "</div>"
      ],
      "text/plain": [
       "                   topic                                           __joke__  \\\n",
       "0                  Beets  {'input_tokens': 16, 'output_tokens': 13, 'inp...   \n",
       "1                  Bears  {'input_tokens': 15, 'output_tokens': 13, 'inp...   \n",
       "2  Battlestar Gallactica  {'input_tokens': 19, 'output_tokens': 19, 'inp...   \n",
       "\n",
       "                                                joke  \\\n",
       "0  Why did the beet blush?\\n\\nBecause it saw the ...   \n",
       "1  Why don't bears wear socks?\\n\\nBecause they ha...   \n",
       "2  Why did the Cylon go to therapy?\\n\\nTo work on...   \n",
       "\n",
       "                                           __joke4__  \\\n",
       "0  {'input_tokens': 16, 'output_tokens': 14, 'inp...   \n",
       "1  {'input_tokens': 15, 'output_tokens': 15, 'inp...   \n",
       "2  {'input_tokens': 19, 'output_tokens': 22, 'inp...   \n",
       "\n",
       "                                               joke4  \n",
       "0  Why did the beet turn red?\\n\\nBecause it saw t...  \n",
       "1  Why don't bears wear socks?\\n\\nBecause they li...  \n",
       "2  Why did the Cylon buy an iPhone?\\n\\nBecause he...  "
      ]
     },
     "execution_count": 50,
     "metadata": {},
     "output_type": "execute_result"
    }
   ],
   "source": [
    "comedian = pipeline.Pipeline([\n",
    "    JokesStep,\n",
    "    JokesStep4,\n",
    "], evaluation_fn=evaluate_side_by_side)\n",
    "\n",
    "comedian.apply(jokes_df)"
   ]
  },
  {
   "cell_type": "code",
   "execution_count": null,
   "metadata": {},
   "outputs": [],
   "source": []
  }
 ],
 "metadata": {
  "kernelspec": {
   "display_name": "labelkit-fHKGPBM5-py3.11",
   "language": "python",
   "name": "python3"
  },
  "language_info": {
   "codemirror_mode": {
    "name": "ipython",
    "version": 3
   },
   "file_extension": ".py",
   "mimetype": "text/x-python",
   "name": "python",
   "nbconvert_exporter": "python",
   "pygments_lexer": "ipython3",
   "version": "3.11.7"
  }
 },
 "nbformat": 4,
 "nbformat_minor": 2
}
