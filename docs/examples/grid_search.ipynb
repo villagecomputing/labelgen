{
 "cells": [
  {
   "cell_type": "markdown",
   "metadata": {},
   "source": [
    "### Grid Search\n",
    "\n",
    "This notebook shows how to use the grid search functionality to tune the paramters of your LLM pipeline and select the appropriate tradeoff between:\n",
    "* Accuracy\n",
    "* Cost\n",
    "* Latency"
   ]
  },
  {
   "cell_type": "markdown",
   "metadata": {},
   "source": []
  }
 ],
 "metadata": {
  "language_info": {
   "name": "python"
  }
 },
 "nbformat": 4,
 "nbformat_minor": 2
}
